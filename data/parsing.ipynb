{
 "cells": [
  {
   "cell_type": "code",
   "execution_count": 39,
   "id": "7f7a7aa0",
   "metadata": {},
   "outputs": [],
   "source": [
    "import pandas as pd\n",
    "from datetime import datetime\n",
    "\n",
    "file_path = \"raw_sleep.csv\"\n",
    "df = pd.read_csv(file_path)\n"
   ]
  },
  {
   "cell_type": "code",
   "execution_count": 40,
   "id": "b26473f8",
   "metadata": {},
   "outputs": [],
   "source": [
    "# Calculating epoch time\n",
    "df['start'] = pd.to_datetime(df['start'])\n",
    "df['end'] = pd.to_datetime(df['end'])\n",
    "\n",
    "# Convert datetime objects to epoch time\n",
    "df['start_epoch'] = df['start'].astype(int) // 10**9\n",
    "df['end_epoch'] = df['end'].astype(int) // 10**9\n",
    "df[\"duration\"] = df['end_epoch'] - df['start_epoch']\n"
   ]
  },
  {
   "cell_type": "code",
   "execution_count": 41,
   "id": "453ab821",
   "metadata": {},
   "outputs": [
    {
     "data": {
      "text/plain": [
       "stage\n",
       "ASLEEP_UNSPECIFIED     6058430\n",
       "AWAKE                  1109461\n",
       "DEEP                   1893397\n",
       "IN_BED                45096286\n",
       "LIGHT                  8998306\n",
       "REM                    2888624\n",
       "Name: duration, dtype: int64"
      ]
     },
     "execution_count": 41,
     "metadata": {},
     "output_type": "execute_result"
    }
   ],
   "source": [
    "\n",
    "duration_sum = df.groupby('stage')['duration'].sum()\n",
    "\n",
    "duration_sum\n",
    "\n",
    "# asleep_unspecified = duration_sum[\"ASLEEP_UNSPECIFIED\"]\n",
    "# deep = duration_sum[\"DEEP\"]\n",
    "# in_bed = duration[\"IN_BED\"]\n",
    "# light = duration[\"LIGHT\"]\n",
    "# rem = duration[\"REM\"]\n"
   ]
  },
  {
   "cell_type": "code",
   "execution_count": null,
   "id": "691190d6",
   "metadata": {},
   "outputs": [],
   "source": []
  }
 ],
 "metadata": {
  "kernelspec": {
   "display_name": "Python 3 (ipykernel)",
   "language": "python",
   "name": "python3"
  },
  "language_info": {
   "codemirror_mode": {
    "name": "ipython",
    "version": 3
   },
   "file_extension": ".py",
   "mimetype": "text/x-python",
   "name": "python",
   "nbconvert_exporter": "python",
   "pygments_lexer": "ipython3",
   "version": "3.10.12"
  }
 },
 "nbformat": 4,
 "nbformat_minor": 5
}
